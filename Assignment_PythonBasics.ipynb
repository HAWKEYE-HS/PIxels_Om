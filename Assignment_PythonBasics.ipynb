{
 "cells": [
  {
   "cell_type": "markdown",
   "metadata": {
    "id": "iiomo2JZF4xk"
   },
   "source": [
    "# Assignment\n",
    "\n"
   ]
  },
  {
   "cell_type": "markdown",
   "metadata": {},
   "source": [
    "## A few basic exercises\n",
    "### Variable Assignment\n",
    "* Try a program to display your name using a variable\n",
    "* Try changing that variable in code itself to something else\n",
    "* Try assiging one variable to other and changing one's value\n"
   ]
  },
  {
   "cell_type": "code",
   "execution_count": 2,
   "metadata": {},
   "outputs": [
    {
     "name": "stdout",
     "output_type": "stream",
     "text": [
      "Om\n"
     ]
    }
   ],
   "source": [
    "a= \"Om\"\n",
    "b= \"Doiphode\"\n",
    "\n",
    "# Write code to print the variable a \n",
    "print(a)\n",
    "############\n",
    "\n",
    "# Write Code to Change variable a into 30\n",
    "a=30\n",
    "############\n",
    "\n",
    "# Write Code to assign variable a the value of b\n",
    "a=b\n",
    "############\n"
   ]
  },
  {
   "cell_type": "markdown",
   "metadata": {},
   "source": [
    "### Multiple Assignment\n",
    "\n",
    "* Try Reversing the assignements i.e. new a should be 3, b should be 2 and c should be 1"
   ]
  },
  {
   "cell_type": "code",
   "execution_count": 3,
   "metadata": {},
   "outputs": [
    {
     "name": "stdout",
     "output_type": "stream",
     "text": [
      "3 2 1\n"
     ]
    }
   ],
   "source": [
    "a,b,c = 1,2,3\n",
    "\n",
    "## write a single line code to reverse a,b,c using multiple assignment\n",
    "a,b,c=c,b,a\n",
    "######\n",
    "print(a,b,c)"
   ]
  },
  {
   "cell_type": "markdown",
   "metadata": {},
   "source": [
    "### String\n",
    "\n",
    "* Try reversing string in one line as compared to conventional loops\n"
   ]
  },
  {
   "cell_type": "code",
   "execution_count": 4,
   "metadata": {},
   "outputs": [
    {
     "name": "stdout",
     "output_type": "stream",
     "text": [
      "!tset a si siht\n"
     ]
    }
   ],
   "source": [
    "string = \"this is a test!\"\n",
    "\n",
    "## Write Code to reverse string in one line\n",
    "\n",
    "##\n",
    "string = string[::-1]\n",
    "\n",
    "print(string)"
   ]
  },
  {
   "cell_type": "markdown",
   "metadata": {
    "id": "QMpTD6PQzkHZ"
   },
   "source": [
    "# Operators"
   ]
  },
  {
   "cell_type": "markdown",
   "metadata": {
    "id": "jBP8kRW4z2lv"
   },
   "source": [
    "You are provided with a list of Clubs in VJTI:\n",
    "clubs = ['SRA' , 'Aero' , 'Racing' , 'DSC' , 'COC']\n",
    "And a list of clubs you are a member of:\n",
    "membership= ['SRA' , 'DSC']\n",
    "\n",
    "You have to perform the following tasks:\n",
    "\n",
    "1.   Create a boolean list respective to the clubs you are a member of without using the '==' operator:\n",
    "Expected output: [true,false,false,true,false] HINT: use the membership operator\n",
    "\n",
    "2.   Convert the boolean list into a list of binary one or zero without using the operator '=='. Expected output: [1,0,0,1,0]\n",
    "HINT: Check out identity operator"
   ]
  },
  {
   "cell_type": "code",
   "execution_count": 5,
   "metadata": {
    "id": "hWE8HMmFzy8j"
   },
   "outputs": [
    {
     "name": "stdout",
     "output_type": "stream",
     "text": [
      "['True', 'False', 'False', 'True', 'False']\n",
      "[1, 0, 0, 1, 0]\n"
     ]
    }
   ],
   "source": [
    "clubs = ['SRA' , 'Aero' , 'Racing' , 'DSC' , 'COC'] \n",
    "membership= ['SRA' , 'DSC']\n",
    "# Write your code here\n",
    "boolean_list = []\n",
    "for x in clubs:\n",
    "    if x in membership:\n",
    "        boolean_list.append(\"True\")\n",
    "    else:\n",
    "        boolean_list.append(\"False\")\n",
    "print(boolean_list)\n",
    "boolean_list.clear()\n",
    "for x in clubs:\n",
    "    if x is membership[0]:\n",
    "        boolean_list.append(1)\n",
    "    elif x is membership[len(membership)-1]:\n",
    "        boolean_list.append(1)\n",
    "    else:\n",
    "        boolean_list.append(0)\n",
    "print(boolean_list)"
   ]
  },
  {
   "cell_type": "markdown",
   "metadata": {
    "id": "LTbYqBpx2W8h"
   },
   "source": [
    "You are provided with the following:\n",
    "expression = 4_6_9_3_23_19\n",
    "Using the operators: +,-,*, /, % in places of the _ make an expression that reads the value: 25.0."
   ]
  },
  {
   "cell_type": "code",
   "execution_count": 6,
   "metadata": {
    "id": "mKaJrL6w3oR3"
   },
   "outputs": [
    {
     "name": "stdout",
     "output_type": "stream",
     "text": [
      "25.0\n"
     ]
    }
   ],
   "source": [
    "\n",
    "expression = 4*6-9/3+23%19\n",
    "print(expression)\n",
    "# write your code here\n"
   ]
  },
  {
   "cell_type": "markdown",
   "metadata": {
    "id": "gaciSf_w3wdN"
   },
   "source": [
    "# Control Statements"
   ]
  },
  {
   "cell_type": "markdown",
   "metadata": {
    "id": "C3wLYw-Y32Ap"
   },
   "source": [
    "Complete the for loop such that whenever there is an prime number it prints the number plus \"I was a prime\" in the same line, otherwise it prints nothing.  \n",
    "\n",
    "\n",
    "Using the looping statement and the control statements  \n",
    "\n"
   ]
  },
  {
   "cell_type": "code",
   "execution_count": 1,
   "metadata": {
    "id": "9O0v4M2C5CAq"
   },
   "outputs": [
    {
     "name": "stdout",
     "output_type": "stream",
     "text": [
      "2 : I am a prime number\n",
      "3 : I am a prime number\n",
      "5 : I am a prime number\n",
      "7 : I am a prime number\n",
      "11 : I am a prime number\n",
      "13 : I am a prime number\n",
      "17 : I am a prime number\n",
      "19 : I am a prime number\n",
      "23 : I am a prime number\n",
      "29 : I am a prime number\n",
      "31 : I am a prime number\n",
      "37 : I am a prime number\n",
      "41 : I am a prime number\n",
      "43 : I am a prime number\n",
      "47 : I am a prime number\n",
      "53 : I am a prime number\n",
      "59 : I am a prime number\n",
      "61 : I am a prime number\n",
      "67 : I am a prime number\n",
      "71 : I am a prime number\n",
      "73 : I am a prime number\n",
      "79 : I am a prime number\n",
      "83 : I am a prime number\n",
      "89 : I am a prime number\n",
      "97 : I am a prime number\n"
     ]
    }
   ],
   "source": [
    "# for i in range(100):\n",
    "#   # Write Code here\n",
    "    \n",
    "#   #Don't tamper the next line\n",
    "#   print(\"I was a prime\")\n",
    "for i in range(100):\n",
    "    if i > 1:\n",
    "        for j in range(2, int(i / 2) + 1):\n",
    "            if (i % j) == 0:\n",
    "                break\n",
    "        else:\n",
    "            print(f\"{i} : I am a prime number\")"
   ]
  },
  {
   "cell_type": "markdown",
   "metadata": {
    "id": "-_wYEMJPS3pq"
   },
   "source": [
    "# Lists"
   ]
  },
  {
   "cell_type": "markdown",
   "metadata": {
    "id": "-ZdE30HvLh2G"
   },
   "source": [
    "Write a Python program to count the number of strings where the string length is 2 or more and the first and last character are same from a given list of strings. Go to the editor  \n",
    "**Sample Input** :['abc', 'xyz', 'aba', '1221']   \n",
    "**Sample Output** :2  \n",
    "**Explanation** :'aba' and '1221' have length greater than 2 and also has matching first and last character.   "
   ]
  },
  {
   "cell_type": "code",
   "execution_count": 8,
   "metadata": {
    "id": "Xk1x-6zrSpYo"
   },
   "outputs": [
    {
     "name": "stdout",
     "output_type": "stream",
     "text": [
      "2\n"
     ]
    }
   ],
   "source": [
    "list1 = ['abc','xyz','aba','1221']\n",
    "# Write your code here\n",
    "count = 0\n",
    "for item in list1:\n",
    "    if len(item) > 2 and item[0] == item[len(item) - 1]:\n",
    "        count += 1\n",
    "print(count)"
   ]
  },
  {
   "cell_type": "markdown",
   "metadata": {
    "id": "PFEX3PKtSwj3"
   },
   "source": [
    "Write a Python program to print the numbers of a specified list after removing even numbers from it.  \n",
    "**Hint** : Use List Comprehension"
   ]
  },
  {
   "cell_type": "code",
   "execution_count": 9,
   "metadata": {
    "id": "csR4tZzLVXTq"
   },
   "outputs": [
    {
     "name": "stdout",
     "output_type": "stream",
     "text": [
      "[1, 3, 5, 7, 9, 11, 13, 15, 17, 19, 21, 23, 25, 27, 29, 31, 33, 35, 37, 39, 41, 43, 45, 47, 49, 51, 53, 55, 57, 59, 61, 63, 65, 67, 69, 71, 73, 75, 77, 79, 81, 83, 85, 87, 89, 91, 93, 95, 97, 99]\n"
     ]
    }
   ],
   "source": [
    "# Write your code here\n",
    "odd_nums = [x for x in range(0, 100) if x % 2 != 0]\n",
    "print(odd_nums)"
   ]
  },
  {
   "cell_type": "markdown",
   "metadata": {
    "id": "P3dm0udUVcmB"
   },
   "source": [
    "# Dictionaries"
   ]
  },
  {
   "cell_type": "markdown",
   "metadata": {
    "id": "7pZi-gqWVhpy"
   },
   "source": [
    "Delete set of keys (keysToRemove) from a dictionary and display the resultant dictionary  \n",
    "**Given** : The \"sampleDict\" dictionary has already been defined in the below code ."
   ]
  },
  {
   "cell_type": "markdown",
   "metadata": {
    "id": "Z8gkalnDXoo1"
   },
   "source": [
    "**Expected Output**:\n",
    "{'city': 'New york', 'age': 25}"
   ]
  },
  {
   "cell_type": "code",
   "execution_count": 10,
   "metadata": {
    "id": "Z8zSdTdBZpMr"
   },
   "outputs": [
    {
     "name": "stdout",
     "output_type": "stream",
     "text": [
      "{'age': 25, 'city': 'New york'}\n"
     ]
    }
   ],
   "source": [
    "# Given Dictionary\n",
    "sampleDict = {\n",
    "  \"name\": \"Kelly\",\n",
    "  \"age\":25,\n",
    "  \"salary\": 8000,\n",
    "  \"city\": \"New york\"\n",
    "  \n",
    "}\n",
    "\n",
    "# remove the keys present in the list below from the dictionary \n",
    "keysToRemove = [\"name\", \"salary\"]\n",
    "\n",
    "# Write your code here\n",
    "for key in keysToRemove:\n",
    "    sampleDict.pop(key)\n",
    "print(sampleDict)"
   ]
  },
  {
   "cell_type": "markdown",
   "metadata": {
    "id": "rV5O1kFoXvY4"
   },
   "source": [
    "Write a program in Python to read the admission number, name of student and his/her stream of 10 students and create a dictionary from this information. print the dictionary "
   ]
  },
  {
   "cell_type": "code",
   "execution_count": null,
   "metadata": {
    "id": "y9-SY12sY0_7"
   },
   "outputs": [
    {
     "name": "stdout",
     "output_type": "stream",
     "text": [
      "Student - 1\n",
      "Enter your admission number : 211071019\n",
      "Enter your name : Dishie\n",
      "Enter your stream : COE\n",
      "Student - 2\n",
      "Enter your admission number : 211070020\n",
      "Enter your name : Om\n",
      "Enter your stream : COE\n",
      "Student - 3\n"
     ]
    }
   ],
   "source": [
    "# Write your code here \n",
    "student_records = {}\n",
    "for i in range(0, 10):\n",
    "    print(f\"Student - {i + 1}\")\n",
    "    admission_number = int(input(\"Enter your admission number : \"))\n",
    "    name = input(\"Enter your name : \")\n",
    "    stream = input(\"Enter your stream : \")\n",
    "    student_records.update({f'Student - {i + 1}': {'Admission_Number': admission_number, 'Name': name, 'Stream': stream}})\n",
    "print(student_records)\n"
   ]
  },
  {
   "cell_type": "markdown",
   "metadata": {
    "id": "jBT1hgBV4J_k"
   },
   "source": [
    "# Sets and Tuples"
   ]
  },
  {
   "cell_type": "markdown",
   "metadata": {
    "id": "aO3KNdm74kIC"
   },
   "source": [
    "Check if two sets have any elements in common. If yes, display the common elements.\n",
    "\n",
    "set1 = {10, 20, 30, 40, 50}\n",
    "\n",
    "set2 = {60, 70, 80, 90, 10}\n",
    "\n",
    "\n",
    "**Expected output:**\n",
    "\n",
    "Two sets have items in common\n",
    "\n",
    "{10}"
   ]
  },
  {
   "cell_type": "code",
   "execution_count": 12,
   "metadata": {
    "id": "TiXKBh1p4UUe"
   },
   "outputs": [
    {
     "name": "stdout",
     "output_type": "stream",
     "text": [
      "{10}\n"
     ]
    }
   ],
   "source": [
    "set1 = {10, 20, 30, 40, 50}\n",
    "set2 = {60, 70, 80, 90, 10}\n",
    "\n",
    "# Write your code here to get common elements among them\n",
    "print(set1.intersection(set2))"
   ]
  },
  {
   "cell_type": "markdown",
   "metadata": {
    "id": "CEKFqNN05nNS"
   },
   "source": [
    "Write a Python program to replace last value of tuples in a list.\n",
    "\n",
    "**Sample list:** [(10, 20, 40), (40, 50, 60), (70, 80, 90)]\n",
    "\n",
    "**Expected Output:** [(10, 20, 100), (40, 50, 100), (70, 80, 100)]"
   ]
  },
  {
   "cell_type": "code",
   "execution_count": 13,
   "metadata": {
    "id": "e9v1bRDU4tyC"
   },
   "outputs": [
    {
     "name": "stdout",
     "output_type": "stream",
     "text": [
      "[(10, 20, 100), (40, 50, 100), (70, 80, 100)]\n"
     ]
    }
   ],
   "source": [
    "list1 = [(10, 20, 40), (40, 50, 60), (70, 80, 90)]\n",
    "\n",
    "# Write your code here to replace last value of tuples in the list\n",
    "list2 = []\n",
    "for item in list1:\n",
    "    item_list = list(item)\n",
    "    item_list[2] = 100\n",
    "    list2.append(tuple(item_list))\n",
    "list1 = list2\n",
    "del list2\n",
    "print(list1)"
   ]
  },
  {
   "cell_type": "markdown",
   "metadata": {
    "id": "DwM6tKlaIlhO"
   },
   "source": [
    "## Functions"
   ]
  },
  {
   "cell_type": "markdown",
   "metadata": {
    "id": "zrFBbZ48Ivqy"
   },
   "source": [
    "1) Write a function called ```showNumbers``` that takes a parameter called limit. It should print all the numbers between 0 and limit with a label to identify the even and odd numbers. For example, if the limit is 3, it should print:\n",
    "* 0 EVEN\n",
    "* 1 ODD\n",
    "* 2 EVEN\n",
    "* 3 ODD\n"
   ]
  },
  {
   "cell_type": "code",
   "execution_count": null,
   "metadata": {
    "id": "eo2hNDAkIue-"
   },
   "outputs": [],
   "source": [
    "# Write Your code here\n",
    "def showNumbers(limit):\n",
    "    for i in range(limit + 1):\n",
    "        if i % 2 == 0:\n",
    "            print(f\"{i} EVEN\")\n",
    "        else:\n",
    "            print(f\"{i} ODD\")"
   ]
  },
  {
   "cell_type": "markdown",
   "metadata": {
    "id": "0olNjioRJezU"
   },
   "source": [
    "2) Write a function that takes limit(integer) as a paramter and prints all the prime numbers between 0 and limit.\n",
    "\n",
    "\n"
   ]
  },
  {
   "cell_type": "code",
   "execution_count": null,
   "metadata": {
    "id": "707mKltkJoyY"
   },
   "outputs": [],
   "source": [
    "# Write your code here\n",
    "def printNumbers(limit):\n",
    "    for i in limit:\n",
    "        print(i)"
   ]
  },
  {
   "cell_type": "markdown",
   "metadata": {
    "id": "Drl7IbTFIBhf"
   },
   "source": [
    "# Classes and Objects"
   ]
  },
  {
   "cell_type": "markdown",
   "metadata": {
    "id": "njc5QPZeJlN7"
   },
   "source": [
    "Write a Python Program to create a class named **Student**. \n",
    "- It should be initialised with attributes like **name, age, rollno, favourite subject**(a single subject).\n",
    "\n",
    "- Write a class method **getDetails()** which prints the name, age and rollno of the object in the below format.\n",
    " \n",
    "  * **Expected Output Format**\n",
    "> Name   : <em>name</em></br>\n",
    "> Age    : <em>age</em></br>\n",
    "> RollNo : <em>rollno</em></br>\n",
    "\n",
    "  * **Expected Example Output**\n",
    "> Name : Gautam</br>\n",
    "Age : 20</br>\n",
    "RollNo : 68\n",
    "\n",
    "- Now, there is a list **fav_list** such that it contains a list of subjects which are favourite to the Principal.\n",
    "\n",
    "  ``` python\n",
    "    fav_list = [\"EG\",\"Mechanics\",\"Chemistry\"]\n",
    "  ``` \n",
    "- You have to write a class Method **isFav()** which returns a boolean value i.e either <em>**true**</em> if any of the favourite subject of the principal matches with that of the student. Think of some suitable logic here.\n",
    "\n",
    "- Create 2 objects of class **Student** with attributes of your choice taken via user input.\n",
    "\n",
    "- Call Both the methods for both the objects. **Note** - Print the result of the **isFav()** method.\n",
    "\n",
    "- **Bonus Task** - Write the body of **isFav()** method in just one line."
   ]
  },
  {
   "cell_type": "code",
   "execution_count": 3,
   "metadata": {
    "id": "hWPxBx0fIOWp"
   },
   "outputs": [],
   "source": [
    "# Write your code here \n",
    "class Student:\n",
    "    fav_list = [\"EG\", \"Mechanics\", \"Chemistry\"]\n",
    "\n",
    "    def __init__(self, name, age, rollno, favourite_subject):\n",
    "        self.name = name\n",
    "        self.age = age\n",
    "        self.rollno = rollno\n",
    "        self.favourite_subject = favourite_subject\n",
    "\n",
    "    def isFav(self):\n",
    "        return self.favourite_subject in self.fav_list\n"
   ]
  },
  {
   "cell_type": "code",
   "execution_count": 4,
   "metadata": {},
   "outputs": [
    {
     "name": "stdout",
     "output_type": "stream",
     "text": [
      "False\n",
      "True\n"
     ]
    }
   ],
   "source": [
    "s1= Student(\"Om\",18,49,\"Maths\")\n",
    "print(s1.isFav())\n",
    "s2=Student(\"John\",18,60,\"Chemistry\")\n",
    "print(s2.isFav())"
   ]
  },
  {
   "cell_type": "code",
   "execution_count": null,
   "metadata": {},
   "outputs": [],
   "source": []
  }
 ],
 "metadata": {
  "colab": {
   "collapsed_sections": [],
   "name": "Python_Pixels_seminar",
   "provenance": [],
   "toc_visible": true
  },
  "kernelspec": {
   "display_name": "Python 3 (ipykernel)",
   "language": "python",
   "name": "python3"
  },
  "language_info": {
   "codemirror_mode": {
    "name": "ipython",
    "version": 3
   },
   "file_extension": ".py",
   "mimetype": "text/x-python",
   "name": "python",
   "nbconvert_exporter": "python",
   "pygments_lexer": "ipython3",
   "version": "3.10.4"
  }
 },
 "nbformat": 4,
 "nbformat_minor": 1
}
